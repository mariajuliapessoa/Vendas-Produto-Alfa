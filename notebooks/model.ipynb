{
 "cells": [
  {
   "cell_type": "code",
   "execution_count": 23,
   "id": "39916991",
   "metadata": {},
   "outputs": [],
   "source": [
    "# Bibliotecas principais\n",
    "import pandas as pd\n",
    "import numpy as np\n",
    "import matplotlib.pyplot as plt\n",
    "import seaborn as sns\n",
    "\n",
    "# Modelagem\n",
    "import lightgbm as lgb\n",
    "from sklearn.model_selection import TimeSeriesSplit\n",
    "from sklearn.metrics import mean_absolute_error, mean_squared_error\n",
    "from lightgbm import LGBMRegressor, early_stopping\n",
    "import joblib"
   ]
  },
  {
   "cell_type": "code",
   "execution_count": null,
   "id": "5c66d10e",
   "metadata": {},
   "outputs": [],
   "source": [
    "!pip install pandas numpy matplotlib seaborn scikit-learn lightgbm"
   ]
  },
  {
   "cell_type": "code",
   "execution_count": null,
   "id": "4c7ebe68",
   "metadata": {},
   "outputs": [],
   "source": [
    "# Carregar dados processados com features\n",
    "df = pd.read_csv(\"../data/processed/vendas_processed_features.csv\", parse_dates=['date'], index_col='date')\n",
    "\n",
    "# Visualizar primeiras linhas\n",
    "df.head()"
   ]
  },
  {
   "cell_type": "code",
   "execution_count": null,
   "id": "07dbe57c",
   "metadata": {},
   "outputs": [],
   "source": [
    "df = df.drop(columns=['dia_da_semana','feriado_nacional'])\n",
    "\n",
    "df = df.rename(columns={'em_promocao':'is_promotion'})\n",
    "\n",
    "for col in ['is_promotion','is_holiday','is_weekend']:\n",
    "    df[col] = df[col].astype(int)\n",
    "\n",
    "df = df.dropna().copy()\n",
    "\n",
    "df.head()"
   ]
  },
  {
   "cell_type": "code",
   "execution_count": null,
   "id": "5c37dec6",
   "metadata": {},
   "outputs": [],
   "source": [
    "target = 'vendas'\n",
    "features = [c for c in df.columns if c != target]\n",
    "\n",
    "X = df[features]\n",
    "y = df[target]"
   ]
  },
  {
   "cell_type": "code",
   "execution_count": null,
   "id": "2f346028",
   "metadata": {},
   "outputs": [],
   "source": [
    "tscv = TimeSeriesSplit(n_splits=3)\n",
    "metrics = []\n",
    "\n",
    "for fold, (train_idx, val_idx) in enumerate(tscv.split(X), 1):\n",
    "    X_train, X_val = X.iloc[train_idx], X.iloc[val_idx]\n",
    "    y_train, y_val = y.iloc[train_idx], y.iloc[val_idx]\n",
    "    \n",
    "    model = LGBMRegressor(\n",
    "        objective='regression',\n",
    "        n_estimators=1000\n",
    "    )\n",
    "    \n",
    "    model.fit(\n",
    "        X_train, y_train,\n",
    "        eval_set=[(X_val, y_val)],\n",
    "        eval_metric='mae',\n",
    "        callbacks=[early_stopping(stopping_rounds=10)],\n",
    "        verbose=False\n",
    "    )\n",
    "    \n",
    "    y_pred = model.predict(X_val)\n",
    "    mae = mean_absolute_error(y_val, y_pred)\n",
    "    rmse = mean_squared_error(y_val, y_pred, squared=False)\n",
    "    mape = np.mean(np.abs((y_val - y_pred)/y_val)) * 100\n",
    "    \n",
    "    metrics.append({'fold': fold, 'MAE': mae, 'RMSE': rmse, 'MAPE': mape})\n",
    "    print(f\"Fold {fold} → MAE: {mae:.2f}, RMSE: {rmse:.2f}, MAPE: {mape:.2f}%\")"
   ]
  },
  {
   "cell_type": "code",
   "execution_count": null,
   "id": "aeff5f8d",
   "metadata": {},
   "outputs": [],
   "source": [
    "\n",
    "final_train_data = lgb.Dataset(X, label=y)\n",
    "final_model = lgb.train(params, final_train_data, verbose_eval=False)\n",
    "\n",
    "# Salvar modelo\n",
    "final_model.save_model(\"model_lightgbm.txt\")\n",
    "\n",
    "# ---------------------------\n",
    "# 🔟 Gerar previsões para 14 dias futuros\n",
    "# ---------------------------\n",
    "# Para simplificação: usar últimos valores como lags\n",
    "last_row = df.iloc[-1].copy()\n",
    "future_preds = []\n",
    "\n",
    "for day in range(14):\n",
    "    X_new = last_row[features].to_frame().T\n",
    "    y_pred = final_model.predict(X_new)[0]\n",
    "    future_preds.append(y_pred)\n",
    "    \n",
    "    # Atualizar lags\n",
    "    last_row['lag_1'] = last_row['vendas']\n",
    "    last_row['lag_7'] = last_row['lag_6'] if 'lag_6' in last_row else last_row['lag_7']\n",
    "    last_row['lag_14'] = last_row['lag_13'] if 'lag_13' in last_row else last_row['lag_14']\n",
    "    last_row['lag_28'] = last_row['lag_27'] if 'lag_27' in last_row else last_row['lag_28']\n",
    "    last_row['vendas'] = y_pred\n",
    "\n",
    "# Visualizar previsões\n",
    "future_dates = pd.date_range(start=df.index[-1]+pd.Timedelta(days=1), periods=14)\n",
    "forecast_df = pd.DataFrame({'date': future_dates, 'vendas_pred': future_preds}).set_index('date')\n",
    "print(\"\\nPrevisões para os próximos 14 dias:\")\n",
    "print(forecast_df)"
   ]
  }
 ],
 "metadata": {
  "kernelspec": {
   "display_name": "Python 3",
   "language": "python",
   "name": "python3"
  },
  "language_info": {
   "codemirror_mode": {
    "name": "ipython",
    "version": 3
   },
   "file_extension": ".py",
   "mimetype": "text/x-python",
   "name": "python",
   "nbconvert_exporter": "python",
   "pygments_lexer": "ipython3",
   "version": "3.11.5"
  }
 },
 "nbformat": 4,
 "nbformat_minor": 5
}
